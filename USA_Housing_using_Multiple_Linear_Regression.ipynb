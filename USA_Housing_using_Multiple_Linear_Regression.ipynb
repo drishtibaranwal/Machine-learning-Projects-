{
  "nbformat": 4,
  "nbformat_minor": 0,
  "metadata": {
    "colab": {
      "name": "USA Housing using Multiple Linear Regression",
      "provenance": [],
      "toc_visible": true,
      "authorship_tag": "ABX9TyMMEFMo5wVIsxbA+7bq7HiQ",
      "include_colab_link": true
    },
    "kernelspec": {
      "name": "python3",
      "display_name": "Python 3"
    },
    "language_info": {
      "name": "python"
    }
  },
  "cells": [
    {
      "cell_type": "markdown",
      "metadata": {
        "id": "view-in-github",
        "colab_type": "text"
      },
      "source": [
        "<a href=\"https://colab.research.google.com/github/drishtibaranwal/Machine-learning-Projects-/blob/main/USA_Housing_using_Multiple_Linear_Regression.ipynb\" target=\"_parent\"><img src=\"https://colab.research.google.com/assets/colab-badge.svg\" alt=\"Open In Colab\"/></a>"
      ]
    },
    {
      "cell_type": "code",
      "metadata": {
        "id": "IQ0jqhkRAnpl"
      },
      "source": [
        "# importing libraries \n",
        "\n",
        "import pandas as pd\n",
        "import numpy as np"
      ],
      "execution_count": null,
      "outputs": []
    },
    {
      "cell_type": "code",
      "metadata": {
        "id": "jVVndPPrEBUo"
      },
      "source": [
        "# Importing Dataset\n",
        "\n",
        "df= pd.read_csv(\"/content/Multiple Linear Regression Dataset.csv\")\n",
        "fn= pd.read_csv(\"/content/USA_Housing.csv\")"
      ],
      "execution_count": null,
      "outputs": []
    },
    {
      "cell_type": "code",
      "metadata": {
        "colab": {
          "base_uri": "https://localhost:8080/",
          "height": 203
        },
        "id": "D3Oik2i3EI42",
        "outputId": "e0f12660-53ac-4da9-d9d6-ab050cd67516"
      },
      "source": [
        "\n",
        "df.head()"
      ],
      "execution_count": null,
      "outputs": [
        {
          "output_type": "execute_result",
          "data": {
            "text/html": [
              "<div>\n",
              "<style scoped>\n",
              "    .dataframe tbody tr th:only-of-type {\n",
              "        vertical-align: middle;\n",
              "    }\n",
              "\n",
              "    .dataframe tbody tr th {\n",
              "        vertical-align: top;\n",
              "    }\n",
              "\n",
              "    .dataframe thead th {\n",
              "        text-align: right;\n",
              "    }\n",
              "</style>\n",
              "<table border=\"1\" class=\"dataframe\">\n",
              "  <thead>\n",
              "    <tr style=\"text-align: right;\">\n",
              "      <th></th>\n",
              "      <th>Transportation</th>\n",
              "      <th>Stationary</th>\n",
              "      <th>Packaging</th>\n",
              "      <th>Revenue</th>\n",
              "    </tr>\n",
              "  </thead>\n",
              "  <tbody>\n",
              "    <tr>\n",
              "      <th>0</th>\n",
              "      <td>1000</td>\n",
              "      <td>1200</td>\n",
              "      <td>150</td>\n",
              "      <td>1203</td>\n",
              "    </tr>\n",
              "    <tr>\n",
              "      <th>1</th>\n",
              "      <td>1200</td>\n",
              "      <td>1150</td>\n",
              "      <td>300</td>\n",
              "      <td>1603</td>\n",
              "    </tr>\n",
              "    <tr>\n",
              "      <th>2</th>\n",
              "      <td>1400</td>\n",
              "      <td>1000</td>\n",
              "      <td>450</td>\n",
              "      <td>2003</td>\n",
              "    </tr>\n",
              "    <tr>\n",
              "      <th>3</th>\n",
              "      <td>1000</td>\n",
              "      <td>1050</td>\n",
              "      <td>600</td>\n",
              "      <td>2403</td>\n",
              "    </tr>\n",
              "    <tr>\n",
              "      <th>4</th>\n",
              "      <td>1800</td>\n",
              "      <td>1000</td>\n",
              "      <td>1000</td>\n",
              "      <td>2803</td>\n",
              "    </tr>\n",
              "  </tbody>\n",
              "</table>\n",
              "</div>"
            ],
            "text/plain": [
              "   Transportation  Stationary  Packaging  Revenue\n",
              "0            1000        1200        150     1203\n",
              "1            1200        1150        300     1603\n",
              "2            1400        1000        450     2003\n",
              "3            1000        1050        600     2403\n",
              "4            1800        1000       1000     2803"
            ]
          },
          "metadata": {
            "tags": []
          },
          "execution_count": 31
        }
      ]
    },
    {
      "cell_type": "code",
      "metadata": {
        "id": "YerhSQmSIy1V"
      },
      "source": [
        "#training the model\n",
        "from sklearn.linear_model import LinearRegression\n",
        "\n",
        "#Creating a Linear Regression object \n",
        "model = LinearRegression()"
      ],
      "execution_count": null,
      "outputs": []
    },
    {
      "cell_type": "code",
      "metadata": {
        "colab": {
          "base_uri": "https://localhost:8080/"
        },
        "id": "dI6sAPQIKVRE",
        "outputId": "fd94b939-c40e-4f54-d03f-ccb3e90dc34c"
      },
      "source": [
        "# X variables = Transportation\tStationary\tPackaging\n",
        "# Y variable = Revenue (output)\n",
        "\n",
        "# fitting the dataset\n",
        "model.fit(df[['Transportation', 'Stationary' , 'Packaging']] , df['Revenue'])"
      ],
      "execution_count": null,
      "outputs": [
        {
          "output_type": "execute_result",
          "data": {
            "text/plain": [
              "LinearRegression(copy_X=True, fit_intercept=True, n_jobs=None, normalize=False)"
            ]
          },
          "metadata": {
            "tags": []
          },
          "execution_count": 19
        }
      ]
    },
    {
      "cell_type": "code",
      "metadata": {
        "colab": {
          "base_uri": "https://localhost:8080/"
        },
        "id": "sPbnvE0vLEXT",
        "outputId": "f63f7434-d68b-4b22-e710-7b3457600e8c"
      },
      "source": [
        "# Start making Predictions \n",
        "\n",
        "model.predict([[4200,1000,2500]])"
      ],
      "execution_count": null,
      "outputs": [
        {
          "output_type": "execute_result",
          "data": {
            "text/plain": [
              "array([6115.563678])"
            ]
          },
          "metadata": {
            "tags": []
          },
          "execution_count": 22
        }
      ]
    },
    {
      "cell_type": "code",
      "metadata": {
        "colab": {
          "base_uri": "https://localhost:8080/"
        },
        "id": "iNPfo4dpLtFW",
        "outputId": "c4fd2834-8d1a-4af7-dc43-40515f493cc1"
      },
      "source": [
        "model.predict([[10000, 9000, 50000  ]])"
      ],
      "execution_count": null,
      "outputs": [
        {
          "output_type": "execute_result",
          "data": {
            "text/plain": [
              "array([36567.22949069])"
            ]
          },
          "metadata": {
            "tags": []
          },
          "execution_count": 23
        }
      ]
    },
    {
      "cell_type": "code",
      "metadata": {
        "colab": {
          "base_uri": "https://localhost:8080/"
        },
        "id": "qpdUPQm5L42z",
        "outputId": "6e490aa1-17f3-413c-aad7-e1b3ba7f1d6e"
      },
      "source": [
        "# checkinh accuracy of model \n",
        "\n",
        "model.score(df[['Transportation', 'Stationary' , 'Packaging']] , df['Revenue'])"
      ],
      "execution_count": null,
      "outputs": [
        {
          "output_type": "execute_result",
          "data": {
            "text/plain": [
              "0.9090591387521104"
            ]
          },
          "metadata": {
            "tags": []
          },
          "execution_count": 25
        }
      ]
    },
    {
      "cell_type": "code",
      "metadata": {
        "colab": {
          "base_uri": "https://localhost:8080/"
        },
        "id": "IgS-yVh8Ml_1",
        "outputId": "6c0ecbda-ea79-419e-ac73-83cf67647f7f"
      },
      "source": [
        "# Checking the coefficients \n",
        "model.coef_"
      ],
      "execution_count": null,
      "outputs": [
        {
          "output_type": "execute_result",
          "data": {
            "text/plain": [
              "array([ 0.3047125 , -3.60438683,  1.21093532])"
            ]
          },
          "metadata": {
            "tags": []
          },
          "execution_count": 26
        }
      ]
    },
    {
      "cell_type": "code",
      "metadata": {
        "colab": {
          "base_uri": "https://localhost:8080/"
        },
        "id": "V-JuRObgM5kO",
        "outputId": "daea239b-7277-4a27-b610-2a8416077f88"
      },
      "source": [
        "model.intercept_"
      ],
      "execution_count": null,
      "outputs": [
        {
          "output_type": "execute_result",
          "data": {
            "text/plain": [
              "5412.819686364769"
            ]
          },
          "metadata": {
            "tags": []
          },
          "execution_count": 27
        }
      ]
    },
    {
      "cell_type": "code",
      "metadata": {
        "id": "aEupPGT4NBOD"
      },
      "source": [
        ""
      ],
      "execution_count": null,
      "outputs": []
    }
  ]
}