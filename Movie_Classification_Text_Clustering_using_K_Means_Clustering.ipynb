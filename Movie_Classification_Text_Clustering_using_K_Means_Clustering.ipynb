{
  "nbformat": 4,
  "nbformat_minor": 0,
  "metadata": {
    "colab": {
      "name": "Movie Classification - Text Clustering using K-Means Clustering",
      "provenance": [],
      "authorship_tag": "ABX9TyODoGQ+wA0tUJje12mOyJ5V",
      "include_colab_link": true
    },
    "kernelspec": {
      "name": "python3",
      "display_name": "Python 3"
    },
    "language_info": {
      "name": "python"
    }
  },
  "cells": [
    {
      "cell_type": "markdown",
      "metadata": {
        "id": "view-in-github",
        "colab_type": "text"
      },
      "source": [
        "<a href=\"https://colab.research.google.com/github/drishtibaranwal/Machine-learning-Projects-/blob/main/Movie_Classification_Text_Clustering_using_K_Means_Clustering.ipynb\" target=\"_parent\"><img src=\"https://colab.research.google.com/assets/colab-badge.svg\" alt=\"Open In Colab\"/></a>"
      ]
    },
    {
      "cell_type": "code",
      "metadata": {
        "id": "SzgG6QPHMWY5"
      },
      "source": [
        "import numpy as np\n",
        "import pandas as pd\n",
        "df=pd.read_csv(\"https://raw.githubusercontent.com/MarcusChong123/Text-Clustering-with-Python/master/Movies_Dataset.csv\")"
      ],
      "execution_count": null,
      "outputs": []
    },
    {
      "cell_type": "code",
      "metadata": {
        "colab": {
          "base_uri": "https://localhost:8080/",
          "height": 203
        },
        "id": "Klq5fkLiMedB",
        "outputId": "70135708-7a1d-4cbf-e216-7860e9c90619"
      },
      "source": [
        "df.head()"
      ],
      "execution_count": null,
      "outputs": [
        {
          "output_type": "execute_result",
          "data": {
            "text/html": [
              "<div>\n",
              "<style scoped>\n",
              "    .dataframe tbody tr th:only-of-type {\n",
              "        vertical-align: middle;\n",
              "    }\n",
              "\n",
              "    .dataframe tbody tr th {\n",
              "        vertical-align: top;\n",
              "    }\n",
              "\n",
              "    .dataframe thead th {\n",
              "        text-align: right;\n",
              "    }\n",
              "</style>\n",
              "<table border=\"1\" class=\"dataframe\">\n",
              "  <thead>\n",
              "    <tr style=\"text-align: right;\">\n",
              "      <th></th>\n",
              "      <th>id</th>\n",
              "      <th>title</th>\n",
              "      <th>overview</th>\n",
              "    </tr>\n",
              "  </thead>\n",
              "  <tbody>\n",
              "    <tr>\n",
              "      <th>0</th>\n",
              "      <td>0</td>\n",
              "      <td>Toy Story</td>\n",
              "      <td>Led by Woody, Andy's toys live happily in his ...</td>\n",
              "    </tr>\n",
              "    <tr>\n",
              "      <th>1</th>\n",
              "      <td>1</td>\n",
              "      <td>Jumanji</td>\n",
              "      <td>When siblings Judy and Peter discover an encha...</td>\n",
              "    </tr>\n",
              "    <tr>\n",
              "      <th>2</th>\n",
              "      <td>2</td>\n",
              "      <td>Grumpier Old Men</td>\n",
              "      <td>A family wedding reignites the ancient feud be...</td>\n",
              "    </tr>\n",
              "    <tr>\n",
              "      <th>3</th>\n",
              "      <td>3</td>\n",
              "      <td>Waiting to Exhale</td>\n",
              "      <td>Cheated on, mistreated and stepped on, the wom...</td>\n",
              "    </tr>\n",
              "    <tr>\n",
              "      <th>4</th>\n",
              "      <td>4</td>\n",
              "      <td>Father of the Bride Part II</td>\n",
              "      <td>Just when George Banks has recovered from his ...</td>\n",
              "    </tr>\n",
              "  </tbody>\n",
              "</table>\n",
              "</div>"
            ],
            "text/plain": [
              "   id  ...                                           overview\n",
              "0   0  ...  Led by Woody, Andy's toys live happily in his ...\n",
              "1   1  ...  When siblings Judy and Peter discover an encha...\n",
              "2   2  ...  A family wedding reignites the ancient feud be...\n",
              "3   3  ...  Cheated on, mistreated and stepped on, the wom...\n",
              "4   4  ...  Just when George Banks has recovered from his ...\n",
              "\n",
              "[5 rows x 3 columns]"
            ]
          },
          "metadata": {
            "tags": []
          },
          "execution_count": 2
        }
      ]
    },
    {
      "cell_type": "code",
      "metadata": {
        "colab": {
          "base_uri": "https://localhost:8080/"
        },
        "id": "JJqUIAPGMhc6",
        "outputId": "6635e715-8153-4a70-aa4a-3f61654c8fbb"
      },
      "source": [
        "df.info()"
      ],
      "execution_count": null,
      "outputs": [
        {
          "output_type": "stream",
          "text": [
            "<class 'pandas.core.frame.DataFrame'>\n",
            "RangeIndex: 45466 entries, 0 to 45465\n",
            "Data columns (total 3 columns):\n",
            " #   Column    Non-Null Count  Dtype \n",
            "---  ------    --------------  ----- \n",
            " 0   id        45466 non-null  int64 \n",
            " 1   title     45460 non-null  object\n",
            " 2   overview  44507 non-null  object\n",
            "dtypes: int64(1), object(2)\n",
            "memory usage: 1.0+ MB\n"
          ],
          "name": "stdout"
        }
      ]
    },
    {
      "cell_type": "code",
      "metadata": {
        "id": "kPBwVQJrNXuT"
      },
      "source": [
        "# Removing 'the' , 'a' kind of words\n",
        "# data preprocessing\n",
        "from sklearn.feature_extraction.text import TfidfVectorizer\n",
        "from sklearn.cluster import KMeans\n"
      ],
      "execution_count": null,
      "outputs": []
    },
    {
      "cell_type": "code",
      "metadata": {
        "id": "TzvyMXsXON9o"
      },
      "source": [
        "documents= df['overview'].values.astype(\"U\")\n"
      ],
      "execution_count": null,
      "outputs": []
    },
    {
      "cell_type": "code",
      "metadata": {
        "id": "DIIP2a4DPD2d"
      },
      "source": [
        "vectorizer= TfidfVectorizer(stop_words='english')\n",
        "features= vectorizer.fit_transform(documents)"
      ],
      "execution_count": null,
      "outputs": []
    },
    {
      "cell_type": "code",
      "metadata": {
        "colab": {
          "base_uri": "https://localhost:8080/"
        },
        "id": "kPg733pmP5av",
        "outputId": "073b8cee-c5f5-436b-ab2b-b1faed38e753"
      },
      "source": [
        "k=20\n",
        "model=KMeans(n_clusters=k,init='k-means++', max_iter=100, n_init=1)\n",
        "model.fit(features)"
      ],
      "execution_count": null,
      "outputs": [
        {
          "output_type": "execute_result",
          "data": {
            "text/plain": [
              "KMeans(algorithm='auto', copy_x=True, init='k-means++', max_iter=100,\n",
              "       n_clusters=20, n_init=1, n_jobs=None, precompute_distances='auto',\n",
              "       random_state=None, tol=0.0001, verbose=0)"
            ]
          },
          "metadata": {
            "tags": []
          },
          "execution_count": 15
        }
      ]
    },
    {
      "cell_type": "code",
      "metadata": {
        "colab": {
          "base_uri": "https://localhost:8080/",
          "height": 203
        },
        "id": "6pMe0jFHQb6J",
        "outputId": "7448a9b5-89ac-46e7-d8a9-d000c8193f67"
      },
      "source": [
        "df['cluster'] = model.labels_\n",
        "\n",
        "df.head()"
      ],
      "execution_count": null,
      "outputs": [
        {
          "output_type": "execute_result",
          "data": {
            "text/html": [
              "<div>\n",
              "<style scoped>\n",
              "    .dataframe tbody tr th:only-of-type {\n",
              "        vertical-align: middle;\n",
              "    }\n",
              "\n",
              "    .dataframe tbody tr th {\n",
              "        vertical-align: top;\n",
              "    }\n",
              "\n",
              "    .dataframe thead th {\n",
              "        text-align: right;\n",
              "    }\n",
              "</style>\n",
              "<table border=\"1\" class=\"dataframe\">\n",
              "  <thead>\n",
              "    <tr style=\"text-align: right;\">\n",
              "      <th></th>\n",
              "      <th>id</th>\n",
              "      <th>title</th>\n",
              "      <th>overview</th>\n",
              "      <th>cluster</th>\n",
              "    </tr>\n",
              "  </thead>\n",
              "  <tbody>\n",
              "    <tr>\n",
              "      <th>0</th>\n",
              "      <td>0</td>\n",
              "      <td>Toy Story</td>\n",
              "      <td>Led by Woody, Andy's toys live happily in his ...</td>\n",
              "      <td>3</td>\n",
              "    </tr>\n",
              "    <tr>\n",
              "      <th>1</th>\n",
              "      <td>1</td>\n",
              "      <td>Jumanji</td>\n",
              "      <td>When siblings Judy and Peter discover an encha...</td>\n",
              "      <td>3</td>\n",
              "    </tr>\n",
              "    <tr>\n",
              "      <th>2</th>\n",
              "      <td>2</td>\n",
              "      <td>Grumpier Old Men</td>\n",
              "      <td>A family wedding reignites the ancient feud be...</td>\n",
              "      <td>4</td>\n",
              "    </tr>\n",
              "    <tr>\n",
              "      <th>3</th>\n",
              "      <td>3</td>\n",
              "      <td>Waiting to Exhale</td>\n",
              "      <td>Cheated on, mistreated and stepped on, the wom...</td>\n",
              "      <td>6</td>\n",
              "    </tr>\n",
              "    <tr>\n",
              "      <th>4</th>\n",
              "      <td>4</td>\n",
              "      <td>Father of the Bride Part II</td>\n",
              "      <td>Just when George Banks has recovered from his ...</td>\n",
              "      <td>3</td>\n",
              "    </tr>\n",
              "  </tbody>\n",
              "</table>\n",
              "</div>"
            ],
            "text/plain": [
              "   id  ... cluster\n",
              "0   0  ...       3\n",
              "1   1  ...       3\n",
              "2   2  ...       4\n",
              "3   3  ...       6\n",
              "4   4  ...       3\n",
              "\n",
              "[5 rows x 4 columns]"
            ]
          },
          "metadata": {
            "tags": []
          },
          "execution_count": 16
        }
      ]
    },
    {
      "cell_type": "code",
      "metadata": {
        "colab": {
          "base_uri": "https://localhost:8080/"
        },
        "id": "KJmcuJVlRtuj",
        "outputId": "37b2286b-0b96-43df-dbcf-d000b4b2bd7f"
      },
      "source": [
        "print(\"Cluster centroids: \\n\")\n",
        "order_centroids = model.cluster_centers_.argsort()[:, ::-1]\n",
        "terms = vectorizer.get_feature_names()\n",
        "\n",
        "for i in range(k):\n",
        "    print(\"Cluster %d:\" % i)\n",
        "    for j in order_centroids[i, :10]: #print out 10 feature terms of each cluster\n",
        "        print (' %s' % terms[j])\n",
        "    print('------------')"
      ],
      "execution_count": null,
      "outputs": [
        {
          "output_type": "stream",
          "text": [
            "Cluster centroids: \n",
            "\n",
            "Cluster 0:\n",
            " town\n",
            " small\n",
            " sheriff\n",
            " local\n",
            " new\n",
            " life\n",
            " young\n",
            " girl\n",
            " people\n",
            " family\n",
            "------------\n",
            "Cluster 1:\n",
            " woman\n",
            " young\n",
            " husband\n",
            " man\n",
            " life\n",
            " love\n",
            " finds\n",
            " married\n",
            " beautiful\n",
            " tries\n",
            "------------\n",
            "Cluster 2:\n",
            " nan\n",
            " ݣ1890\n",
            " frazier\n",
            " fraw\n",
            " fray\n",
            " frayed\n",
            " fraying\n",
            " frayn\n",
            " frazer\n",
            " frazzled\n",
            "------------\n",
            "Cluster 3:\n",
            " life\n",
            " young\n",
            " overview\n",
            " world\n",
            " wife\n",
            " girl\n",
            " finds\n",
            " father\n",
            " group\n",
            " years\n",
            "------------\n",
            "Cluster 4:\n",
            " time\n",
            " life\n",
            " day\n",
            " man\n",
            " years\n",
            " young\n",
            " world\n",
            " small\n",
            " new\n",
            " father\n",
            "------------\n",
            "Cluster 5:\n",
            " killer\n",
            " serial\n",
            " police\n",
            " detective\n",
            " young\n",
            " murder\n",
            " victims\n",
            " murders\n",
            " cop\n",
            " man\n",
            "------------\n",
            "Cluster 6:\n",
            " friends\n",
            " best\n",
            " group\n",
            " life\n",
            " college\n",
            " lives\n",
            " night\n",
            " family\n",
            " young\n",
            " old\n",
            "------------\n",
            "Cluster 7:\n",
            " war\n",
            " world\n",
            " ii\n",
            " civil\n",
            " american\n",
            " soldiers\n",
            " german\n",
            " army\n",
            " story\n",
            " soldier\n",
            "------------\n",
            "Cluster 8:\n",
            " family\n",
            " home\n",
            " life\n",
            " father\n",
            " mother\n",
            " son\n",
            " house\n",
            " young\n",
            " wife\n",
            " brother\n",
            "------------\n",
            "Cluster 9:\n",
            " new\n",
            " york\n",
            " city\n",
            " life\n",
            " young\n",
            " world\n",
            " home\n",
            " years\n",
            " love\n",
            " finds\n",
            "------------\n",
            "Cluster 10:\n",
            " earth\n",
            " planet\n",
            " space\n",
            " alien\n",
            " aliens\n",
            " crew\n",
            " human\n",
            " world\n",
            " race\n",
            " mission\n",
            "------------\n",
            "Cluster 11:\n",
            " school\n",
            " high\n",
            " students\n",
            " teacher\n",
            " student\n",
            " girls\n",
            " girl\n",
            " new\n",
            " group\n",
            " friends\n",
            "------------\n",
            "Cluster 12:\n",
            " king\n",
            " queen\n",
            " prince\n",
            " kingdom\n",
            " throne\n",
            " princess\n",
            " evil\n",
            " louis\n",
            " son\n",
            " young\n",
            "------------\n",
            "Cluster 13:\n",
            " man\n",
            " young\n",
            " life\n",
            " wife\n",
            " finds\n",
            " father\n",
            " old\n",
            " death\n",
            " daughter\n",
            " world\n",
            "------------\n",
            "Cluster 14:\n",
            " old\n",
            " year\n",
            " boy\n",
            " life\n",
            " father\n",
            " mother\n",
            " girl\n",
            " son\n",
            " new\n",
            " years\n",
            "------------\n",
            "Cluster 15:\n",
            " story\n",
            " true\n",
            " tells\n",
            " based\n",
            " life\n",
            " world\n",
            " film\n",
            " set\n",
            " young\n",
            " love\n",
            "------------\n",
            "Cluster 16:\n",
            " film\n",
            " directed\n",
            " director\n",
            " life\n",
            " based\n",
            " movie\n",
            " films\n",
            " feature\n",
            " short\n",
            " story\n",
            "------------\n",
            "Cluster 17:\n",
            " documentary\n",
            " film\n",
            " feature\n",
            " interviews\n",
            " life\n",
            " world\n",
            " footage\n",
            " filmmaker\n",
            " american\n",
            " length\n",
            "------------\n",
            "Cluster 18:\n",
            " men\n",
            " young\n",
            " women\n",
            " lives\n",
            " life\n",
            " group\n",
            " man\n",
            " woman\n",
            " world\n",
            " love\n",
            "------------\n",
            "Cluster 19:\n",
            " love\n",
            " falls\n",
            " young\n",
            " life\n",
            " girl\n",
            " fall\n",
            " story\n",
            " meets\n",
            " man\n",
            " woman\n",
            "------------\n"
          ],
          "name": "stdout"
        }
      ]
    },
    {
      "cell_type": "code",
      "metadata": {
        "id": "a1EdURSKTdEv"
      },
      "source": [
        ""
      ],
      "execution_count": null,
      "outputs": []
    }
  ]
}